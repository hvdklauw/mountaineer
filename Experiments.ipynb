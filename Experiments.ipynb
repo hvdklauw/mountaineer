{
 "cells": [
  {
   "cell_type": "code",
   "execution_count": 38,
   "id": "57ae558a-b69c-48bb-9436-6aa6ea21df79",
   "metadata": {},
   "outputs": [],
   "source": [
    "import ast\n",
    "import inspect\n",
    "import functools\n",
    "\n",
    "def sort_function_calls(func):\n",
    "    @functools.wraps(func)\n",
    "    def wrapper(*args, **kwargs):\n",
    "        source = inspect.getsource(func)\n",
    "        parsed_ast = ast.parse(source)\n",
    "\n",
    "        main_calls = []\n",
    "        other_calls = []\n",
    "        main_instances = set()\n",
    "\n",
    "        class FunctionCallVisitor(ast.NodeVisitor):\n",
    "            def visit_Assign(self, node):\n",
    "                # Check for assignment to a Main instance\n",
    "                for target in node.targets:\n",
    "                    if isinstance(node.value, ast.Call) and getattr(node.value.func, 'id', None) == 'Main':\n",
    "                        main_instances.add(target.id)\n",
    "                self.generic_visit(node)\n",
    "\n",
    "            def visit_Call(self, node):\n",
    "                # Check if the call is on an instance of Main\n",
    "                if isinstance(node.func, ast.Attribute) and node.func.value.id in main_instances:\n",
    "                    main_calls.append(ast.unparse(node))\n",
    "                elif isinstance(node.func, ast.Name) and node.func.id in main_instances:\n",
    "                    # Direct call like `item()`\n",
    "                    main_calls.append(ast.unparse(node))\n",
    "                else:\n",
    "                    other_calls.append(ast.unparse(node))\n",
    "                self.generic_visit(node)\n",
    "\n",
    "        FunctionCallVisitor().visit(parsed_ast)\n",
    "\n",
    "        print(\"Calls on 'Main':\", main_calls)\n",
    "        print(\"Other calls:\", other_calls)\n",
    "\n",
    "        return func(*args, **kwargs)\n",
    "\n",
    "    return wrapper\n"
   ]
  },
  {
   "cell_type": "code",
   "execution_count": 39,
   "id": "4c87222b-715c-484c-aff7-e4fdaa83c171",
   "metadata": {},
   "outputs": [],
   "source": [
    "class Main:\n",
    "    def __call__(self, *args, **kwargs):\n",
    "        pass"
   ]
  },
  {
   "cell_type": "code",
   "execution_count": 40,
   "id": "cf533627-407e-4b3f-a4f1-b429f56e93da",
   "metadata": {},
   "outputs": [],
   "source": [
    "@sort_function_calls\n",
    "def testing():\n",
    "    item = Main()\n",
    "    item(whee=True)\n",
    "\n",
    "    print(\"TEST\")"
   ]
  },
  {
   "cell_type": "code",
   "execution_count": 41,
   "id": "597063c0-9e52-495a-8d13-c830465ed99b",
   "metadata": {},
   "outputs": [
    {
     "name": "stdout",
     "output_type": "stream",
     "text": [
      "Calls on 'Main': ['item(whee=True)']\n",
      "Other calls: ['Main()', \"print('TEST')\"]\n",
      "TEST\n"
     ]
    }
   ],
   "source": [
    "testing()"
   ]
  },
  {
   "cell_type": "code",
   "execution_count": null,
   "id": "92dbf3d8-05cb-4e7b-acc9-8479d967f950",
   "metadata": {},
   "outputs": [],
   "source": []
  }
 ],
 "metadata": {
  "jupytext": {
   "formats": "ipynb,auto:light"
  },
  "kernelspec": {
   "display_name": "Python 3 (ipykernel)",
   "language": "python",
   "name": "python3"
  },
  "language_info": {
   "codemirror_mode": {
    "name": "ipython",
    "version": 3
   },
   "file_extension": ".py",
   "mimetype": "text/x-python",
   "name": "python",
   "nbconvert_exporter": "python",
   "pygments_lexer": "ipython3",
   "version": "3.11.2"
  }
 },
 "nbformat": 4,
 "nbformat_minor": 5
}
